# Import required libraries
import numpy as np
import pandas as pd
import matplotlib.pyplot as plt
import scipy.stats as stats
from fitter import Fitter
import seaborn as sns

# Step 1: Generate or Load Random Data
# For demonstration, we generate random data resembling wind speeds
np.random.seed(42)
data = stats.gumbel_r.rvs(loc=25, scale=5, size=1000)  # Gumbel distribution example

# Step 2: Visualize the Data
plt.figure(figsize=(10, 6))
plt.hist(data, bins=30, density=True, alpha=0.6, color='blue', label="Histogram")
sns.kdeplot(data, color='red', label='KDE')
plt.title('Random Data Distribution')
plt.xlabel('Value')
plt.ylabel('Density')
plt.legend()
plt.grid()
plt.show()

# Step 3: Hypothesis for Possible Distributions
# Using `fitter` library to identify the best-fit distribution
f = Fitter(data, distributions=["norm", "lognorm", "expon", "gumbel_r", "weibull_min"])
f.fit()
f.summary()

# Display the best-fit distribution
best_fit = f.get_best(method="sumsquare_error")
print(f"Best-fit distribution: {best_fit}")

# Step 4: Evaluate Fit (Q-Q Plot for Gumbel Distribution)
params = stats.gumbel_r.fit(data)  # Fit Gumbel distribution
theoretical_quantiles = np.linspace(0.01, 0.99, 100)
sample_quantiles = np.quantile(data, theoretical_quantiles)

plt.figure(figsize=(8, 6))
plt.scatter(stats.gumbel_r.ppf(theoretical_quantiles, *params), sample_quantiles, alpha=0.7)
plt.plot([min(sample_quantiles), max(sample_quantiles)],
         [min(sample_quantiles), max(sample_quantiles)],
         'r--', label="1:1 Line")
plt.title("Q-Q Plot for Gumbel Distribution")
plt.xlabel("Theoretical Quantiles")
plt.ylabel("Sample Quantiles")
plt.legend()
plt.grid()
plt.show()

# Step 5: Calculate Characteristic Value (98% Quantile)
characteristic_value = stats.gumbel_r.ppf(0.98, *params)
print(f"Characteristic value (98% quantile): {characteristic_value:.2f}")

# Step 6: Validation with Other Distributions
# Fitting Normal and Weibull distributions
params_norm = stats.norm.fit(data)
params_weibull = stats.weibull_min.fit(data)

# Compute 98% quantiles for all
quantile_gumbel = stats.gumbel_r.ppf(0.98, *params)
quantile_norm = stats.norm.ppf(0.98, *params_norm)
quantile_weibull = stats.weibull_min.ppf(0.98, *params_weibull)

print(f"Gumbel 98% Quantile: {quantile_gumbel:.2f}")
print(f"Normal 98% Quantile: {quantile_norm:.2f}")
print(f"Weibull 98% Quantile: {quantile_weibull:.2f}")

# Step 7: Compare Visualizations
x = np.linspace(min(data), max(data), 1000)
plt.figure(figsize=(10, 6))
plt.hist(data, bins=30, density=True, alpha=0.6, label="Data Histogram")
plt.plot(x, stats.gumbel_r.pdf(x, *params), label="Gumbel Fit", color="blue")
plt.plot(x, stats.norm.pdf(x, *params_norm), label="Normal Fit", color="green")
plt.plot(x, stats.weibull_min.pdf(x, *params_weibull), label="Weibull Fit", color="orange")
plt.title("Comparison of Fitted Distributions")
plt.xlabel("Value")
plt.ylabel("Density")
plt.legend()
plt.grid()
plt.show()
